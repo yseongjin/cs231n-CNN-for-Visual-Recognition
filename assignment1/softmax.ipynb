{
 "cells": [
  {
   "cell_type": "markdown",
   "metadata": {},
   "source": [
    "# Softmax exercise\n",
    "\n",
    "*Complete and hand in this completed worksheet (including its outputs and any supporting code outside of the worksheet) with your assignment submission. For more details see the [assignments page](http://vision.stanford.edu/teaching/cs231n/assignments.html) on the course website.*\n",
    "\n",
    "This exercise is analogous to the SVM exercise. You will:\n",
    "\n",
    "- implement a fully-vectorized **loss function** for the Softmax classifier\n",
    "- implement the fully-vectorized expression for its **analytic gradient**\n",
    "- **check your implementation** with numerical gradient\n",
    "- use a validation set to **tune the learning rate and regularization** strength\n",
    "- **optimize** the loss function with **SGD**\n",
    "- **visualize** the final learned weights\n"
   ]
  },
  {
   "cell_type": "code",
   "execution_count": 46,
   "metadata": {},
   "outputs": [
    {
     "name": "stdout",
     "output_type": "stream",
     "text": [
      "The autoreload extension is already loaded. To reload it, use:\n",
      "  %reload_ext autoreload\n"
     ]
    }
   ],
   "source": [
    "import random\n",
    "import numpy as np\n",
    "from cs231n.data_utils import load_CIFAR10\n",
    "import matplotlib.pyplot as plt\n",
    "\n",
    "from __future__ import print_function\n",
    "\n",
    "%matplotlib inline\n",
    "plt.rcParams['figure.figsize'] = (10.0, 8.0) # set default size of plots\n",
    "plt.rcParams['image.interpolation'] = 'nearest'\n",
    "plt.rcParams['image.cmap'] = 'gray'\n",
    "\n",
    "# for auto-reloading extenrnal modules\n",
    "# see http://stackoverflow.com/questions/1907993/autoreload-of-modules-in-ipython\n",
    "%load_ext autoreload\n",
    "%autoreload 2"
   ]
  },
  {
   "cell_type": "code",
   "execution_count": 49,
   "metadata": {},
   "outputs": [
    {
     "name": "stdout",
     "output_type": "stream",
     "text": [
      "Train data shape:  (49000, 3073)\n",
      "Train labels shape:  (49000,)\n",
      "Validation data shape:  (1000, 3073)\n",
      "Validation labels shape:  (1000,)\n",
      "Test data shape:  (1000, 3073)\n",
      "Test labels shape:  (1000,)\n",
      "dev data shape:  (500, 3073)\n",
      "dev labels shape:  (500,)\n"
     ]
    }
   ],
   "source": [
    "def get_CIFAR10_data(num_training=49000, num_validation=1000, num_test=1000, num_dev=500):\n",
    "    \"\"\"\n",
    "    Load the CIFAR-10 dataset from disk and perform preprocessing to prepare\n",
    "    it for the linear classifier. These are the same steps as we used for the\n",
    "    SVM, but condensed to a single function.  \n",
    "    \"\"\"\n",
    "    # Load the raw CIFAR-10 data\n",
    "    cifar10_dir = 'cs231n/datasets/cifar-10-batches-py'\n",
    "    X_train, y_train, X_test, y_test = load_CIFAR10(cifar10_dir)\n",
    "    \n",
    "    # subsample the data\n",
    "    mask = list(range(num_training, num_training + num_validation))\n",
    "    X_val = X_train[mask]\n",
    "    y_val = y_train[mask]\n",
    "    mask = list(range(num_training))\n",
    "    X_train = X_train[mask]\n",
    "    y_train = y_train[mask]\n",
    "    mask = list(range(num_test))\n",
    "    X_test = X_test[mask]\n",
    "    y_test = y_test[mask]\n",
    "    mask = np.random.choice(num_training, num_dev, replace=False)\n",
    "    X_dev = X_train[mask]\n",
    "    y_dev = y_train[mask]\n",
    "    \n",
    "    # Preprocessing: reshape the image data into rows\n",
    "    X_train = np.reshape(X_train, (X_train.shape[0], -1))\n",
    "    X_val = np.reshape(X_val, (X_val.shape[0], -1))\n",
    "    X_test = np.reshape(X_test, (X_test.shape[0], -1))\n",
    "    X_dev = np.reshape(X_dev, (X_dev.shape[0], -1))\n",
    "    \n",
    "    # Normalize the data: subtract the mean image\n",
    "    mean_image = np.mean(X_train, axis = 0)\n",
    "    X_train -= mean_image\n",
    "    X_val -= mean_image\n",
    "    X_test -= mean_image\n",
    "    X_dev -= mean_image\n",
    "    \n",
    "    # add bias dimension and transform into columns\n",
    "    X_train = np.hstack([X_train, np.ones((X_train.shape[0], 1))])\n",
    "    X_val = np.hstack([X_val, np.ones((X_val.shape[0], 1))])\n",
    "    X_test = np.hstack([X_test, np.ones((X_test.shape[0], 1))])\n",
    "    X_dev = np.hstack([X_dev, np.ones((X_dev.shape[0], 1))])\n",
    "    \n",
    "    return X_train, y_train, X_val, y_val, X_test, y_test, X_dev, y_dev\n",
    "\n",
    "\n",
    "# Invoke the above function to get our data.\n",
    "X_train, y_train, X_val, y_val, X_test, y_test, X_dev, y_dev = get_CIFAR10_data()\n",
    "print('Train data shape: ', X_train.shape)\n",
    "print('Train labels shape: ', y_train.shape)\n",
    "print('Validation data shape: ', X_val.shape)\n",
    "print('Validation labels shape: ', y_val.shape)\n",
    "print('Test data shape: ', X_test.shape)\n",
    "print('Test labels shape: ', y_test.shape)\n",
    "print('dev data shape: ', X_dev.shape)\n",
    "print('dev labels shape: ', y_dev.shape)"
   ]
  },
  {
   "cell_type": "markdown",
   "metadata": {},
   "source": [
    "## Softmax Classifier\n",
    "\n",
    "Your code for this section will all be written inside **cs231n/classifiers/softmax.py**. \n"
   ]
  },
  {
   "cell_type": "code",
   "execution_count": 53,
   "metadata": {},
   "outputs": [
    {
     "name": "stdout",
     "output_type": "stream",
     "text": [
      "loss: 2.352330\n",
      "sanity check: 2.302585\n"
     ]
    }
   ],
   "source": [
    "# First implement the naive softmax loss function with nested loops.\n",
    "# Open the file cs231n/classifiers/softmax.py and implement the\n",
    "# softmax_loss_naive function.\n",
    "\n",
    "from cs231n.classifiers.softmax import softmax_loss_naive\n",
    "import time\n",
    "\n",
    "# Generate a random softmax weight matrix and use it to compute the loss.\n",
    "W = np.random.randn(3073, 10) * 0.0001\n",
    "loss, grad = softmax_loss_naive(W, X_dev, y_dev, 0.0)\n",
    "\n",
    "# As a rough sanity check, our loss should be something close to -log(0.1).\n",
    "print('loss: %f' % loss)\n",
    "print('sanity check: %f' % (-np.log(0.1)))"
   ]
  },
  {
   "cell_type": "markdown",
   "metadata": {},
   "source": [
    "## Inline Question 1:\n",
    "Why do we expect our loss to be close to -log(0.1)? Explain briefly.**\n",
    "\n",
    "**Your answer:** *Fill this in*\n"
   ]
  },
  {
   "cell_type": "code",
   "execution_count": 54,
   "metadata": {},
   "outputs": [
    {
     "name": "stdout",
     "output_type": "stream",
     "text": [
      "numerical: -2.013091 analytic: -2.013091, relative error: 2.392398e-08\n",
      "numerical: 3.035606 analytic: 3.035606, relative error: 2.129510e-09\n",
      "numerical: -0.202805 analytic: -0.202805, relative error: 1.815926e-08\n",
      "numerical: -1.349263 analytic: -1.349263, relative error: 4.938655e-08\n",
      "numerical: 4.529364 analytic: 4.529364, relative error: 9.578887e-09\n",
      "numerical: -0.493966 analytic: -0.493966, relative error: 3.292999e-08\n",
      "numerical: -4.233535 analytic: -4.233535, relative error: 7.939408e-09\n",
      "numerical: -2.009088 analytic: -2.009088, relative error: 2.638587e-08\n",
      "numerical: 1.215772 analytic: 1.215772, relative error: 3.649335e-08\n",
      "numerical: -0.744865 analytic: -0.744865, relative error: 3.170645e-09\n",
      "numerical: 2.802949 analytic: 2.802949, relative error: 9.518280e-09\n",
      "numerical: 0.959084 analytic: 0.959083, relative error: 8.581265e-08\n",
      "numerical: -6.940328 analytic: -6.940328, relative error: 4.545445e-09\n",
      "numerical: 2.673394 analytic: 2.673394, relative error: 1.629582e-08\n",
      "numerical: -0.732902 analytic: -0.732902, relative error: 2.238267e-09\n",
      "numerical: 1.326614 analytic: 1.326614, relative error: 1.949822e-08\n",
      "numerical: 3.240767 analytic: 3.240767, relative error: 2.022585e-09\n",
      "numerical: -1.532042 analytic: -1.532043, relative error: 3.591779e-08\n",
      "numerical: 2.998816 analytic: 2.998816, relative error: 6.461111e-09\n",
      "numerical: -0.345527 analytic: -0.345527, relative error: 2.319304e-08\n"
     ]
    }
   ],
   "source": [
    "# Complete the implementation of softmax_loss_naive and implement a (naive)\n",
    "# version of the gradient that uses nested loops.\n",
    "loss, grad = softmax_loss_naive(W, X_dev, y_dev, 0.0)\n",
    "\n",
    "# As we did for the SVM, use numeric gradient checking as a debugging tool.\n",
    "# The numeric gradient should be close to the analytic gradient.\n",
    "from cs231n.gradient_check import grad_check_sparse\n",
    "f = lambda w: softmax_loss_naive(w, X_dev, y_dev, 0.0)[0]\n",
    "grad_numerical = grad_check_sparse(f, W, grad, 10)\n",
    "\n",
    "# similar to SVM case, do another gradient check with regularization\n",
    "loss, grad = softmax_loss_naive(W, X_dev, y_dev, 5e1)\n",
    "f = lambda w: softmax_loss_naive(w, X_dev, y_dev, 5e1)[0]\n",
    "grad_numerical = grad_check_sparse(f, W, grad, 10)"
   ]
  },
  {
   "cell_type": "code",
   "execution_count": 40,
   "metadata": {},
   "outputs": [
    {
     "name": "stdout",
     "output_type": "stream",
     "text": [
      "naive loss: 2.378889e+00 computed in 0.032024s\n",
      "vectorized loss: 2.378889e+00 computed in 0.004001s\n",
      "Loss difference: 0.000000\n",
      "Gradient difference: 0.000000\n"
     ]
    }
   ],
   "source": [
    "# Now that we have a naive implementation of the softmax loss function and its gradient,\n",
    "# implement a vectorized version in softmax_loss_vectorized.\n",
    "# The two versions should compute the same results, but the vectorized version should be\n",
    "# much faster.\n",
    "tic = time.time()\n",
    "loss_naive, grad_naive = softmax_loss_naive(W, X_dev, y_dev, 0.000005)\n",
    "toc = time.time()\n",
    "print('naive loss: %e computed in %fs' % (loss_naive, toc - tic))\n",
    "\n",
    "from cs231n.classifiers.softmax import softmax_loss_vectorized\n",
    "tic = time.time()\n",
    "loss_vectorized, grad_vectorized = softmax_loss_vectorized(W, X_dev, y_dev, 0.000005)\n",
    "toc = time.time()\n",
    "print('vectorized loss: %e computed in %fs' % (loss_vectorized, toc - tic))\n",
    "\n",
    "# As we did for the SVM, we use the Frobenius norm to compare the two versions\n",
    "# of the gradient.\n",
    "grad_difference = np.linalg.norm(grad_naive - grad_vectorized, ord='fro')\n",
    "print('Loss difference: %f' % np.abs(loss_naive - loss_vectorized))\n",
    "print('Gradient difference: %f' % grad_difference)"
   ]
  },
  {
   "cell_type": "code",
   "execution_count": 41,
   "metadata": {},
   "outputs": [
    {
     "name": "stdout",
     "output_type": "stream",
     "text": [
      "learning rate : 1.000000e-07, regularization_strengths: 2.500000e+04\n",
      "iteration 0 / 1500: loss 9.982045\n",
      "iteration 100 / 1500: loss 4.891001\n",
      "iteration 200 / 1500: loss 3.130386\n",
      "iteration 300 / 1500: loss 2.439864\n",
      "iteration 400 / 1500: loss 2.274223\n",
      "iteration 500 / 1500: loss 2.095294\n",
      "iteration 600 / 1500: loss 2.099869\n",
      "iteration 700 / 1500: loss 2.038381\n",
      "iteration 800 / 1500: loss 2.074036\n",
      "iteration 900 / 1500: loss 2.125467\n",
      "iteration 1000 / 1500: loss 2.047540\n",
      "iteration 1100 / 1500: loss 2.060823\n",
      "iteration 1200 / 1500: loss 2.118441\n",
      "iteration 1300 / 1500: loss 2.061675\n",
      "iteration 1400 / 1500: loss 2.063085\n",
      "training accuracy: 0.332837\n",
      "validation accuracy: 0.342000\n",
      "learning rate : 1.000000e-07, regularization_strengths: 5.000000e+04\n",
      "iteration 0 / 1500: loss 17.848683\n",
      "iteration 100 / 1500: loss 4.225442\n",
      "iteration 200 / 1500: loss 2.415087\n",
      "iteration 300 / 1500: loss 2.176493\n",
      "iteration 400 / 1500: loss 2.107282\n",
      "iteration 500 / 1500: loss 2.145015\n",
      "iteration 600 / 1500: loss 2.163752\n",
      "iteration 700 / 1500: loss 2.155060\n",
      "iteration 800 / 1500: loss 2.140169\n",
      "iteration 900 / 1500: loss 2.128845\n",
      "iteration 1000 / 1500: loss 2.141866\n",
      "iteration 1100 / 1500: loss 2.088891\n",
      "iteration 1200 / 1500: loss 2.136832\n",
      "iteration 1300 / 1500: loss 2.132220\n",
      "iteration 1400 / 1500: loss 2.171433\n",
      "training accuracy: 0.300918\n",
      "validation accuracy: 0.315000\n",
      "learning rate : 5.000000e-07, regularization_strengths: 2.500000e+04\n",
      "iteration 0 / 1500: loss 9.945158\n",
      "iteration 100 / 1500: loss 2.145367\n",
      "iteration 200 / 1500: loss 2.085535\n",
      "iteration 300 / 1500: loss 2.161833\n",
      "iteration 400 / 1500: loss 2.167931\n",
      "iteration 500 / 1500: loss 2.156739\n",
      "iteration 600 / 1500: loss 2.067023\n",
      "iteration 700 / 1500: loss 2.062857\n",
      "iteration 800 / 1500: loss 2.050208\n",
      "iteration 900 / 1500: loss 2.093292\n",
      "iteration 1000 / 1500: loss 2.135450\n",
      "iteration 1100 / 1500: loss 2.059366\n",
      "iteration 1200 / 1500: loss 2.069547\n",
      "iteration 1300 / 1500: loss 2.084815\n",
      "iteration 1400 / 1500: loss 2.084247\n",
      "training accuracy: 0.328265\n",
      "validation accuracy: 0.334000\n",
      "learning rate : 5.000000e-07, regularization_strengths: 5.000000e+04\n",
      "iteration 0 / 1500: loss 17.754339\n",
      "iteration 100 / 1500: loss 2.181047\n",
      "iteration 200 / 1500: loss 2.169354\n",
      "iteration 300 / 1500: loss 2.170477\n",
      "iteration 400 / 1500: loss 2.178014\n",
      "iteration 500 / 1500: loss 2.113529\n",
      "iteration 600 / 1500: loss 2.168648\n",
      "iteration 700 / 1500: loss 2.131380\n",
      "iteration 800 / 1500: loss 2.165046\n",
      "iteration 900 / 1500: loss 2.118196\n",
      "iteration 1000 / 1500: loss 2.154861\n",
      "iteration 1100 / 1500: loss 2.197744\n",
      "iteration 1200 / 1500: loss 2.193647\n",
      "iteration 1300 / 1500: loss 2.160497\n",
      "iteration 1400 / 1500: loss 2.185161\n",
      "training accuracy: 0.311327\n",
      "validation accuracy: 0.317000\n",
      "lr 1.000000e-07 reg 2.500000e+04 train accuracy: 0.332837 val accuracy: 0.342000\n",
      "lr 1.000000e-07 reg 5.000000e+04 train accuracy: 0.300918 val accuracy: 0.315000\n",
      "lr 5.000000e-07 reg 2.500000e+04 train accuracy: 0.328265 val accuracy: 0.334000\n",
      "lr 5.000000e-07 reg 5.000000e+04 train accuracy: 0.311327 val accuracy: 0.317000\n",
      "best validation accuracy achieved during cross-validation: 0.342000\n"
     ]
    }
   ],
   "source": [
    "# Use the validation set to tune hyperparameters (regularization strength and\n",
    "# learning rate). You should experiment with different ranges for the learning\n",
    "# rates and regularization strengths; if you are careful you should be able to\n",
    "# get a classification accuracy of over 0.35 on the validation set.\n",
    "from cs231n.classifiers import Softmax\n",
    "results = {}\n",
    "best_val = -1\n",
    "best_softmax = None\n",
    "learning_rates = [1e-7, 5e-7]\n",
    "regularization_strengths = [2.5e4, 5e4]\n",
    "\n",
    "################################################################################\n",
    "# TODO:                                                                        #\n",
    "# Use the validation set to set the learning rate and regularization strength. #\n",
    "# This should be identical to the validation that you did for the SVM; save    #\n",
    "# the best trained softmax classifer in best_softmax.                          #\n",
    "################################################################################\n",
    "best_val = 0\n",
    "for lr in learning_rates :\n",
    "  for reg in regularization_strengths :\n",
    "    print('learning rate : %e, regularization_strengths: %e' % (lr, reg))\n",
    "\n",
    "    softmax = Softmax()\n",
    "    # train\n",
    "    loss_hist = softmax.train(X_train, y_train, learning_rate=lr, reg=reg,\n",
    "                      num_iters=1500, verbose=True)\n",
    "    \n",
    "    # predict\n",
    "    y_train_pred = softmax.predict(X_train)\n",
    "    train_accuracy = np.mean(y_train == y_train_pred)\n",
    "    print('training accuracy: %f' % (train_accuracy, ))\n",
    "    \n",
    "    # validate\n",
    "    y_val_pred = softmax.predict(X_val)\n",
    "    val_accuracy = np.mean(y_val == y_val_pred)\n",
    "    print('validation accuracy: %f' % (val_accuracy, ))\n",
    "    \n",
    "    results.update({(lr, reg) :(train_accuracy,val_accuracy)} )\n",
    "    \n",
    "    if val_accuracy > best_val :\n",
    "       best_val = val_accuracy\n",
    "       best_lr = lr\n",
    "       best_reg = reg\n",
    "       best_softmax = softmax\n",
    "################################################################################\n",
    "#                              END OF YOUR CODE                                #\n",
    "################################################################################\n",
    "    \n",
    "# Print out results.\n",
    "for lr, reg in sorted(results):\n",
    "    train_accuracy, val_accuracy = results[(lr, reg)]\n",
    "    print('lr %e reg %e train accuracy: %f val accuracy: %f' % (\n",
    "                lr, reg, train_accuracy, val_accuracy))\n",
    "    \n",
    "print('best validation accuracy achieved during cross-validation: %f' % best_val)"
   ]
  },
  {
   "cell_type": "code",
   "execution_count": 42,
   "metadata": {},
   "outputs": [
    {
     "name": "stdout",
     "output_type": "stream",
     "text": [
      "softmax on raw pixels final test set accuracy: 0.343000\n"
     ]
    }
   ],
   "source": [
    "# evaluate on test set\n",
    "# Evaluate the best softmax on test set\n",
    "y_test_pred = best_softmax.predict(X_test)\n",
    "test_accuracy = np.mean(y_test == y_test_pred)\n",
    "print('softmax on raw pixels final test set accuracy: %f' % (test_accuracy, ))"
   ]
  },
  {
   "cell_type": "code",
   "execution_count": 43,
   "metadata": {},
   "outputs": [
    {
     "data": {
      "image/png": "[encoded data removed]",
      "text/plain": [
       "<matplotlib.figure.Figure at 0xd150b772e8>"
      ]
     },
     "metadata": {},
     "output_type": "display_data"
    }
   ],
   "source": [
    "# Visualize the learned weights for each class\n",
    "w = best_softmax.W[:-1,:] # strip out the bias\n",
    "w = w.reshape(32, 32, 3, 10)\n",
    "\n",
    "w_min, w_max = np.min(w), np.max(w)\n",
    "\n",
    "classes = ['plane', 'car', 'bird', 'cat', 'deer', 'dog', 'frog', 'horse', 'ship', 'truck']\n",
    "for i in range(10):\n",
    "    plt.subplot(2, 5, i + 1)\n",
    "    \n",
    "    # Rescale the weights to be between 0 and 255\n",
    "    wimg = 255.0 * (w[:, :, :, i].squeeze() - w_min) / (w_max - w_min)\n",
    "    plt.imshow(wimg.astype('uint8'))\n",
    "    plt.axis('off')\n",
    "    plt.title(classes[i])"
   ]
  }
 ],
 "metadata": {
  "kernelspec": {
   "display_name": "Python 3",
   "language": "python",
   "name": "python3"
  },
  "language_info": {
   "codemirror_mode": {
    "name": "ipython",
    "version": 3
   },
   "file_extension": ".py",
   "mimetype": "text/x-python",
   "name": "python",
   "nbconvert_exporter": "python",
   "pygments_lexer": "ipython3",
   "version": "3.7.0"
  }
 },
 "nbformat": 4,
 "nbformat_minor": 1
}
